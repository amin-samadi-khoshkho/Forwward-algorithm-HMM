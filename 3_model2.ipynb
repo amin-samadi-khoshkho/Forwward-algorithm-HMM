{
 "cells": [
  {
   "cell_type": "code",
   "execution_count": 1,
   "metadata": {},
   "outputs": [],
   "source": [
    "import numpy as np"
   ]
  },
  {
   "cell_type": "code",
   "execution_count": 2,
   "metadata": {},
   "outputs": [],
   "source": [
    "a0 = np.array([0.7, 0.3])\n",
    "a = np.array([[0.2,0.8],[0,1]])\n",
    "b = np.array([[0.2,0.8],[0.6,0.4]])"
   ]
  },
  {
   "cell_type": "code",
   "execution_count": 3,
   "metadata": {},
   "outputs": [],
   "source": [
    "def FORWARD(o,a0,a,b):\n",
    "    \n",
    "    N = np.size(a0)\n",
    "    T = np.size(o)\n",
    "    forward = np.zeros([N,T])\n",
    "    \n",
    "    for s in range(N):\n",
    "        forward[s,0] =  a0[s]*b[s,o[0]-1]\n",
    "    \n",
    "    for t in range(1,T):\n",
    "         for s in range(N):\n",
    "                for s_ in range(N):\n",
    "                    forward[s,t] += forward[s_,t-1]*a[s_,s]*b[s,o[t]-1]            \n",
    "    \n",
    "    return forward"
   ]
  },
  {
   "cell_type": "code",
   "execution_count": 4,
   "metadata": {
    "scrolled": false
   },
   "outputs": [
    {
     "data": {
      "text/plain": [
       "0.08172799999999998"
      ]
     },
     "execution_count": 4,
     "metadata": {},
     "output_type": "execute_result"
    }
   ],
   "source": [
    "O2 = [1,2,1]\n",
    "p2 = sum(FORWARD(O2,a0,a,b)[:,-1])\n",
    "p2"
   ]
  },
  {
   "cell_type": "code",
   "execution_count": null,
   "metadata": {},
   "outputs": [],
   "source": []
  }
 ],
 "metadata": {
  "kernelspec": {
   "display_name": "Python 3",
   "language": "python",
   "name": "python3"
  },
  "language_info": {
   "codemirror_mode": {
    "name": "ipython",
    "version": 3
   },
   "file_extension": ".py",
   "mimetype": "text/x-python",
   "name": "python",
   "nbconvert_exporter": "python",
   "pygments_lexer": "ipython3",
   "version": "3.7.1"
  }
 },
 "nbformat": 4,
 "nbformat_minor": 2
}
